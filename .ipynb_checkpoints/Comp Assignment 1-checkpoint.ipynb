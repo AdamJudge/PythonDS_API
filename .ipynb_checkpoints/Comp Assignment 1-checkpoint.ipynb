{
 "cells": [
  {
   "cell_type": "markdown",
   "metadata": {},
   "source": [
    "# COMP41680 - Assignment 1\n",
    "##### Adam Judge - 16343971\n",
    "\n",
    "## Task 1: Identify one or more suitable web APIs\n",
    "###### Api Chosen:\n",
    "A single API chosen for this assignment was the COVID-19 API - https://covid19api.com/\n"
   ]
  },
  {
   "cell_type": "code",
   "execution_count": 1,
   "metadata": {},
   "outputs": [],
   "source": [
    "import os\n",
    "import urllib.request\n",
    "import csv\n",
    "import json\n",
    "import pandas as pd \n",
    "import requests"
   ]
  },
  {
   "cell_type": "markdown",
   "metadata": {},
   "source": [
    "## Task 2: Collect data from chosen API\n",
    "###### Collect Data:\n",
    "The following functions are used in the creation of files, Collection of data"
   ]
  },
  {
   "cell_type": "code",
   "execution_count": 2,
   "metadata": {},
   "outputs": [],
   "source": [
    "def Json2file(FileName, Data):\n",
    "    print(f\"Writing JSON data to {FileName}\")\n",
    "    with open(FileName, \"w\") as File:\n",
    "        json.dump(Data, File)\n",
    "    File.close()\n"
   ]
  },
  {
   "cell_type": "code",
   "execution_count": 19,
   "metadata": {},
   "outputs": [
    {
     "name": "stdout",
     "output_type": "stream",
     "text": [
      "Successfully obtained data for ireland\n",
      "Writing JSON data to ireland_rawdata.json\n",
      "Successfully obtained data for united-kingdom\n",
      "Writing JSON data to united-kingdom_rawdata.json\n"
     ]
    }
   ],
   "source": [
    "countries = [\"ireland\",\"united-kingdom\"]#, \"united-kingdom\"]\n",
    "FileNames=[]\n",
    "\n",
    "for i, c in enumerate(countries):\n",
    "    URL=f\"http://api.covid19api.com/total/dayone/country/{c}\"\n",
    "    response=requests.get(URL)\n",
    "    if response.status_code == 200:\n",
    "        print(f\"Successfully obtained data for {c}\")\n",
    "        Json2file(f\"{c}_rawdata.json\", response.json())\n",
    "        FileNames.append(f\"{c}_rawdata.json\")\n",
    "    else:\n",
    "        print(f\"Oh fuck no siree for country {c}\")\n"
   ]
  },
  {
   "cell_type": "code",
   "execution_count": 23,
   "metadata": {},
   "outputs": [
    {
     "name": "stdout",
     "output_type": "stream",
     "text": [
      "            Country  Confirmed  Deaths                      Date\n",
      "0    United Kingdom          2       0 2020-01-31 00:00:00+00:00\n",
      "1    United Kingdom          2       0 2020-02-01 00:00:00+00:00\n",
      "2    United Kingdom          2       0 2020-02-02 00:00:00+00:00\n",
      "3    United Kingdom          8       0 2020-02-03 00:00:00+00:00\n",
      "4    United Kingdom          8       0 2020-02-04 00:00:00+00:00\n",
      "..              ...        ...     ...                       ...\n",
      "400  United Kingdom    4225906  124654 2021-03-06 00:00:00+00:00\n",
      "401  United Kingdom    4231166  124736 2021-03-07 00:00:00+00:00\n",
      "402  United Kingdom    4235989  124801 2021-03-08 00:00:00+00:00\n",
      "403  United Kingdom    4241858  125032 2021-03-09 00:00:00+00:00\n",
      "404  United Kingdom    4247879  125222 2021-03-10 00:00:00+00:00\n",
      "\n",
      "[405 rows x 4 columns]\n",
      "     Country  Confirmed  Deaths                      Date\n",
      "0    Ireland          1       0 2020-02-29 00:00:00+00:00\n",
      "1    Ireland          1       0 2020-03-01 00:00:00+00:00\n",
      "2    Ireland          1       0 2020-03-02 00:00:00+00:00\n",
      "3    Ireland          2       0 2020-03-03 00:00:00+00:00\n",
      "4    Ireland          6       0 2020-03-04 00:00:00+00:00\n",
      "..       ...        ...     ...                       ...\n",
      "371  Ireland     222699    4419 2021-03-06 00:00:00+00:00\n",
      "372  Ireland     223219    4422 2021-03-07 00:00:00+00:00\n",
      "373  Ireland     223651    4422 2021-03-08 00:00:00+00:00\n",
      "374  Ireland     223957    4452 2021-03-09 00:00:00+00:00\n",
      "375  Ireland     224588    4499 2021-03-10 00:00:00+00:00\n",
      "\n",
      "[376 rows x 4 columns]\n"
     ]
    }
   ],
   "source": [
    "Columns2Drop=[\"CountryCode\", \"Province\", \"City\", \"CityCode\", \"Lat\", \"Lon\", \"Recovered\", \"Active\"]\n",
    "#dfUK=pd.read_json(\"united-kingdom_rawdata.json\", orient=\"records\")\n",
    "#dfIE=pd.read_json(\"ireland_rawdata.json\", orient=\"records\")\n",
    "#Drop all irrelevant columns\n",
    "#dfUK=dfUK.drop(Columns2Drop, axis=1)\n",
    "#dfIE=dfIE.drop(Columns2Drop, axis=1)\n",
    "\n",
    "#print(dfUK)\n",
    "#print(dfIE)\n",
    "for country, filename in zip(countries, FileNames):\n",
    "    "
   ]
  }
 ],
 "metadata": {
  "kernelspec": {
   "display_name": "Python 3",
   "language": "python",
   "name": "python3"
  },
  "language_info": {
   "codemirror_mode": {
    "name": "ipython",
    "version": 3
   },
   "file_extension": ".py",
   "mimetype": "text/x-python",
   "name": "python",
   "nbconvert_exporter": "python",
   "pygments_lexer": "ipython3",
   "version": "3.8.3"
  }
 },
 "nbformat": 4,
 "nbformat_minor": 4
}
